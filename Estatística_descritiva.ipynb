{
  "nbformat": 4,
  "nbformat_minor": 0,
  "metadata": {
    "colab": {
      "name": "Estatística descritiva",
      "provenance": [],
      "toc_visible": true
    },
    "kernelspec": {
      "name": "python3",
      "display_name": "Python 3"
    },
    "language_info": {
      "name": "python"
    }
  },
  "cells": [
    {
      "cell_type": "code",
      "metadata": {
        "id": "P3J4ywT_5Lxf"
      },
      "source": [
        "import pandas as pd\n",
        "import numpy as np\n",
        "import matplotlib.pyplot as plt\n"
      ],
      "execution_count": null,
      "outputs": []
    },
    {
      "cell_type": "code",
      "metadata": {
        "id": "jiWGbNby6fqX"
      },
      "source": [
        "ipca = pd.read_csv(\"ipca.csv\",encoding='latin-1')"
      ],
      "execution_count": null,
      "outputs": []
    },
    {
      "cell_type": "code",
      "metadata": {
        "id": "Iw5PcpAOE4EH",
        "colab": {
          "base_uri": "https://localhost:8080/",
          "height": 700
        },
        "outputId": "390c332f-8421-49fb-f46c-a9ef3814a312"
      },
      "source": [
        "ipca"
      ],
      "execution_count": null,
      "outputs": [
        {
          "output_type": "execute_result",
          "data": {
            "text/html": [
              "<div>\n",
              "<style scoped>\n",
              "    .dataframe tbody tr th:only-of-type {\n",
              "        vertical-align: middle;\n",
              "    }\n",
              "\n",
              "    .dataframe tbody tr th {\n",
              "        vertical-align: top;\n",
              "    }\n",
              "\n",
              "    .dataframe thead th {\n",
              "        text-align: right;\n",
              "    }\n",
              "</style>\n",
              "<table border=\"1\" class=\"dataframe\">\n",
              "  <thead>\n",
              "    <tr style=\"text-align: right;\">\n",
              "      <th></th>\n",
              "      <th>Ano</th>\n",
              "      <th>Preço</th>\n",
              "    </tr>\n",
              "  </thead>\n",
              "  <tbody>\n",
              "    <tr>\n",
              "      <th>0</th>\n",
              "      <td>1980</td>\n",
              "      <td>99.25</td>\n",
              "    </tr>\n",
              "    <tr>\n",
              "      <th>1</th>\n",
              "      <td>1981</td>\n",
              "      <td>95.62</td>\n",
              "    </tr>\n",
              "    <tr>\n",
              "      <th>2</th>\n",
              "      <td>1982</td>\n",
              "      <td>104.79</td>\n",
              "    </tr>\n",
              "    <tr>\n",
              "      <th>3</th>\n",
              "      <td>1983</td>\n",
              "      <td>164.01</td>\n",
              "    </tr>\n",
              "    <tr>\n",
              "      <th>4</th>\n",
              "      <td>1984</td>\n",
              "      <td>215.26</td>\n",
              "    </tr>\n",
              "    <tr>\n",
              "      <th>5</th>\n",
              "      <td>1985</td>\n",
              "      <td>242.23</td>\n",
              "    </tr>\n",
              "    <tr>\n",
              "      <th>6</th>\n",
              "      <td>1986</td>\n",
              "      <td>79.66</td>\n",
              "    </tr>\n",
              "    <tr>\n",
              "      <th>7</th>\n",
              "      <td>1987</td>\n",
              "      <td>363.41</td>\n",
              "    </tr>\n",
              "    <tr>\n",
              "      <th>8</th>\n",
              "      <td>1988</td>\n",
              "      <td>980.21</td>\n",
              "    </tr>\n",
              "    <tr>\n",
              "      <th>9</th>\n",
              "      <td>1989</td>\n",
              "      <td>1972.91</td>\n",
              "    </tr>\n",
              "    <tr>\n",
              "      <th>10</th>\n",
              "      <td>1990</td>\n",
              "      <td>1620.97</td>\n",
              "    </tr>\n",
              "    <tr>\n",
              "      <th>11</th>\n",
              "      <td>1991</td>\n",
              "      <td>472.70</td>\n",
              "    </tr>\n",
              "    <tr>\n",
              "      <th>12</th>\n",
              "      <td>1992</td>\n",
              "      <td>1119.10</td>\n",
              "    </tr>\n",
              "    <tr>\n",
              "      <th>13</th>\n",
              "      <td>1993</td>\n",
              "      <td>2477.15</td>\n",
              "    </tr>\n",
              "    <tr>\n",
              "      <th>14</th>\n",
              "      <td>1994</td>\n",
              "      <td>916.46</td>\n",
              "    </tr>\n",
              "    <tr>\n",
              "      <th>15</th>\n",
              "      <td>1995</td>\n",
              "      <td>22.41</td>\n",
              "    </tr>\n",
              "    <tr>\n",
              "      <th>16</th>\n",
              "      <td>1996</td>\n",
              "      <td>9.56</td>\n",
              "    </tr>\n",
              "    <tr>\n",
              "      <th>17</th>\n",
              "      <td>1997</td>\n",
              "      <td>5.22</td>\n",
              "    </tr>\n",
              "    <tr>\n",
              "      <th>18</th>\n",
              "      <td>1998</td>\n",
              "      <td>1.65</td>\n",
              "    </tr>\n",
              "    <tr>\n",
              "      <th>19</th>\n",
              "      <td>1999</td>\n",
              "      <td>8.94</td>\n",
              "    </tr>\n",
              "    <tr>\n",
              "      <th>20</th>\n",
              "      <td>2000</td>\n",
              "      <td>5.97</td>\n",
              "    </tr>\n",
              "  </tbody>\n",
              "</table>\n",
              "</div>"
            ],
            "text/plain": [
              "     Ano    Preço\n",
              "0   1980    99.25\n",
              "1   1981    95.62\n",
              "2   1982   104.79\n",
              "3   1983   164.01\n",
              "4   1984   215.26\n",
              "5   1985   242.23\n",
              "6   1986    79.66\n",
              "7   1987   363.41\n",
              "8   1988   980.21\n",
              "9   1989  1972.91\n",
              "10  1990  1620.97\n",
              "11  1991   472.70\n",
              "12  1992  1119.10\n",
              "13  1993  2477.15\n",
              "14  1994   916.46\n",
              "15  1995    22.41\n",
              "16  1996     9.56\n",
              "17  1997     5.22\n",
              "18  1998     1.65\n",
              "19  1999     8.94\n",
              "20  2000     5.97"
            ]
          },
          "metadata": {
            "tags": []
          },
          "execution_count": 8
        }
      ]
    },
    {
      "cell_type": "code",
      "metadata": {
        "colab": {
          "base_uri": "https://localhost:8080/",
          "height": 279
        },
        "id": "UIavOqn9V7ws",
        "outputId": "18b90206-aba6-486d-bd8c-24d9025114f5"
      },
      "source": [
        "# Visualização da dispersão entre Preço e Ano\n",
        "ipca.plot(kind='scatter',x='Ano',y='Preço',color='blue')\n",
        "plt.show()"
      ],
      "execution_count": null,
      "outputs": [
        {
          "output_type": "display_data",
          "data": {
            "image/png": "[encoded data removed]",
            "text/plain": [
              "<Figure size 432x288 with 1 Axes>"
            ]
          },
          "metadata": {
            "tags": [],
            "needs_background": "light"
          }
        }
      ]
    },
    {
      "cell_type": "code",
      "metadata": {
        "colab": {
          "base_uri": "https://localhost:8080/"
        },
        "id": "UNLzgrClSylI",
        "outputId": "71bb98fb-7b12-496b-e153-8dece9eb24a1"
      },
      "source": [
        "ipca.info()"
      ],
      "execution_count": null,
      "outputs": [
        {
          "output_type": "stream",
          "text": [
            "<class 'pandas.core.frame.DataFrame'>\n",
            "RangeIndex: 21 entries, 0 to 20\n",
            "Data columns (total 2 columns):\n",
            " #   Column  Non-Null Count  Dtype  \n",
            "---  ------  --------------  -----  \n",
            " 0   Ano     21 non-null     int64  \n",
            " 1   Preço   21 non-null     float64\n",
            "dtypes: float64(1), int64(1)\n",
            "memory usage: 464.0 bytes\n"
          ],
          "name": "stdout"
        }
      ]
    },
    {
      "cell_type": "markdown",
      "metadata": {
        "id": "jT9Lt8wnRaHX"
      },
      "source": [
        "# Estatística Descritiva\n",
        "Média, mediana, moda, variância, desvio padrão."
      ]
    },
    {
      "cell_type": "code",
      "metadata": {
        "colab": {
          "base_uri": "https://localhost:8080/"
        },
        "id": "Fl3bR8AnLT4v",
        "outputId": "09ae4968-44c3-4517-d656-b95dec3b8fda"
      },
      "source": [
        "#  Calculando Média\n",
        "print(ipca['Preço'].mean())"
      ],
      "execution_count": null,
      "outputs": [
        {
          "output_type": "stream",
          "text": [
            "522.7371428571428\n"
          ],
          "name": "stdout"
        }
      ]
    },
    {
      "cell_type": "code",
      "metadata": {
        "colab": {
          "base_uri": "https://localhost:8080/"
        },
        "id": "uuoGiwEKQM2N",
        "outputId": "f3d78214-a3c5-4cfb-ad8d-259308703eb4"
      },
      "source": [
        "#  Calculando Mediana\n",
        "print(ipca['Preço'].median())"
      ],
      "execution_count": null,
      "outputs": [
        {
          "output_type": "stream",
          "text": [
            "164.01\n"
          ],
          "name": "stdout"
        }
      ]
    },
    {
      "cell_type": "code",
      "metadata": {
        "colab": {
          "base_uri": "https://localhost:8080/"
        },
        "id": "ONXiIuaQT4ah",
        "outputId": "0863ace4-30a9-407f-949a-8aae71b77432"
      },
      "source": [
        "#   Calculando 1° Quartil, 2º e 3º Quartil respectivamente\n",
        "print(ipca['Preço'].quantile(q=0.25))\n",
        "print(ipca['Preço'].quantile(q=0.50))\n",
        "print(ipca['Preço'].quantile(q=0.75))"
      ],
      "execution_count": null,
      "outputs": [
        {
          "output_type": "stream",
          "text": [
            "22.41\n",
            "164.01\n",
            "916.46\n"
          ],
          "name": "stdout"
        }
      ]
    },
    {
      "cell_type": "code",
      "metadata": {
        "colab": {
          "base_uri": "https://localhost:8080/"
        },
        "id": "BWjl6iYTUEHx",
        "outputId": "fbed43eb-4162-4539-fc5a-0f897acb80a1"
      },
      "source": [
        "#   Calculando Moda\n",
        "print(ipca['Preço'].mode())"
      ],
      "execution_count": null,
      "outputs": [
        {
          "output_type": "stream",
          "text": [
            "0        1.65\n",
            "1        5.22\n",
            "2        5.97\n",
            "3        8.94\n",
            "4        9.56\n",
            "5       22.41\n",
            "6       79.66\n",
            "7       95.62\n",
            "8       99.25\n",
            "9      104.79\n",
            "10     164.01\n",
            "11     215.26\n",
            "12     242.23\n",
            "13     363.41\n",
            "14     472.70\n",
            "15     916.46\n",
            "16     980.21\n",
            "17    1119.10\n",
            "18    1620.97\n",
            "19    1972.91\n",
            "20    2477.15\n",
            "dtype: float64\n"
          ],
          "name": "stdout"
        }
      ]
    },
    {
      "cell_type": "code",
      "metadata": {
        "colab": {
          "base_uri": "https://localhost:8080/"
        },
        "id": "TDLIGhUyU9rS",
        "outputId": "23359674-d085-4baa-f1e9-8dce4c5bf2bb"
      },
      "source": [
        "#   Calculando a Amplitude\n",
        "print(ipca['Preço'].max() - ipca['Preço'].min())"
      ],
      "execution_count": null,
      "outputs": [
        {
          "output_type": "stream",
          "text": [
            "2475.5\n"
          ],
          "name": "stdout"
        }
      ]
    },
    {
      "cell_type": "code",
      "metadata": {
        "colab": {
          "base_uri": "https://localhost:8080/"
        },
        "id": "GGpCDXsoYEpv",
        "outputId": "c876964e-ec90-46d6-f2db-2a49a6b960a2"
      },
      "source": [
        "#   Calculando a Variância\n",
        "print(ipca['Preço'].var())"
      ],
      "execution_count": null,
      "outputs": [
        {
          "output_type": "stream",
          "text": [
            "524771.5884314284\n"
          ],
          "name": "stdout"
        }
      ]
    },
    {
      "cell_type": "code",
      "metadata": {
        "colab": {
          "base_uri": "https://localhost:8080/"
        },
        "id": "p2KQ7VSjYdTe",
        "outputId": "43337760-b8f6-4418-c1f3-bc9df19063bb"
      },
      "source": [
        "#   Calculando o Desvio Padrão\n",
        "print(ipca['Preço'].std())"
      ],
      "execution_count": null,
      "outputs": [
        {
          "output_type": "stream",
          "text": [
            "724.4112012051087\n"
          ],
          "name": "stdout"
        }
      ]
    },
    {
      "cell_type": "code",
      "metadata": {
        "colab": {
          "base_uri": "https://localhost:8080/"
        },
        "id": "gKEYNgbYZBEV",
        "outputId": "74da39ca-ae8e-4204-d404-2ec23b48444f"
      },
      "source": [
        "#   Calculando Desvio Médio Absoluto\n",
        "print(ipca['Preço'].mad())"
      ],
      "execution_count": null,
      "outputs": [
        {
          "output_type": "stream",
          "text": [
            "566.7025850340136\n"
          ],
          "name": "stdout"
        }
      ]
    },
    {
      "cell_type": "code",
      "metadata": {
        "id": "N5_wzsAldsA7"
      },
      "source": [
        ""
      ],
      "execution_count": null,
      "outputs": []
    }
  ]
}